{
  "nbformat": 4,
  "nbformat_minor": 0,
  "metadata": {
    "colab": {
      "provenance": [],
      "authorship_tag": "ABX9TyP33cijmfiBvfMzqVfwHozO",
      "include_colab_link": true
    },
    "kernelspec": {
      "name": "python3",
      "display_name": "Python 3"
    },
    "language_info": {
      "name": "python"
    }
  },
  "cells": [
    {
      "cell_type": "markdown",
      "metadata": {
        "id": "view-in-github",
        "colab_type": "text"
      },
      "source": [
        "<a href=\"https://colab.research.google.com/github/0Viktor0/pythonLabs/blob/main/PYTHON_2.ipynb\" target=\"_parent\"><img src=\"https://colab.research.google.com/assets/colab-badge.svg\" alt=\"Open In Colab\"/></a>"
      ]
    },
    {
      "cell_type": "code",
      "execution_count": null,
      "metadata": {
        "id": "0W9n6MqZFZ7P"
      },
      "outputs": [],
      "source": [
        "from datetime import datetime"
      ]
    },
    {
      "cell_type": "code",
      "source": [
        "import hashlib"
      ],
      "metadata": {
        "id": "sTJtJneFO54W"
      },
      "execution_count": null,
      "outputs": []
    },
    {
      "cell_type": "code",
      "source": [
        "DATABASE = list()"
      ],
      "metadata": {
        "id": "YU-3JkyVFdAa"
      },
      "execution_count": null,
      "outputs": []
    },
    {
      "cell_type": "code",
      "source": [
        "USER_SCHEME = (\"id\", \"first_name\", \"second_name\", \"email\", \"password\")\n",
        "RECORD_SCHEME = (\"id\", \"date\", \"content\", \"user\", \"title\")\n",
        "ENTITIES = ('User', 'Record')"
      ],
      "metadata": {
        "id": "ErD95SfNS0lJ"
      },
      "execution_count": null,
      "outputs": []
    },
    {
      "cell_type": "code",
      "source": [
        "def _get_entity(s: str) -> str:\n",
        "\n",
        "  if ENTITIES[0] in s:\n",
        "    return ENTITIES[0]\n",
        "  elif ENTITIES[1] in s:\n",
        "    return ENTITIES[1]\n",
        "  else:\n",
        "    return \"\""
      ],
      "metadata": {
        "id": "1FplzIqsSxsw"
      },
      "execution_count": null,
      "outputs": []
    },
    {
      "cell_type": "code",
      "source": [
        "def _parse_string(s: str) -> dict:\n",
        "    entity = _get_entity(s)\n",
        "    if entity == ENTITIES[0]:\n",
        "        return _parse_user(s)\n",
        "    elif entity == ENTITIES[1]:\n",
        "        return _parse_record(s)\n",
        "    else:\n",
        "        return {}"
      ],
      "metadata": {
        "id": "b-W9kdhBFexr"
      },
      "execution_count": null,
      "outputs": []
    },
    {
      "cell_type": "code",
      "source": [
        "def _parse_record(record_str: str) -> dict:\n",
        "    try:\n",
        "        record_dict = {}\n",
        "        for field in RECORD_SCHEME:\n",
        "            field_marker = f\"{field}=\"\n",
        "            if field_marker in record_str:\n",
        "                start_idx = record_str.index(field_marker) + len(field_marker)\n",
        "                end_idx = record_str.find(\",\", start_idx) if \",\" in record_str[start_idx:] else len(record_str)\n",
        "                value = record_str[start_idx:end_idx].strip()\n",
        "                if field == 'id':\n",
        "                    value = int(value)\n",
        "                elif field == 'date':\n",
        "                    value = datetime.strptime(value, \"%d.%m.%Y\")\n",
        "                record_dict[field] = value\n",
        "        return {'record': record_dict}\n",
        "    except Exception as e:\n",
        "        print(\"Error parsing record:\", e)\n",
        "        return {}"
      ],
      "metadata": {
        "id": "H6jbWaFbFl8z"
      },
      "execution_count": null,
      "outputs": []
    },
    {
      "cell_type": "code",
      "source": [
        "def _parse_user(user_str: str) -> dict:\n",
        "    try:\n",
        "        user_dict = {}\n",
        "        for field in USER_SCHEME:\n",
        "            field_marker = f\"{field}=\"\n",
        "            if field_marker in user_str:\n",
        "                start_idx = user_str.index(field_marker) + len(field_marker)\n",
        "                end_idx = user_str.find(\",\", start_idx) if \",\" in user_str[start_idx:] else len(user_str)\n",
        "                value = user_str[start_idx:end_idx].strip()\n",
        "                if field == 'id':\n",
        "                    value = int(value)\n",
        "                user_dict[field] = value\n",
        "        return {'user': user_dict}\n",
        "    except Exception as e:\n",
        "        print(\"Error parsing user:\", e)\n",
        "        return {}"
      ],
      "metadata": {
        "id": "GdwhjqG2Fts4"
      },
      "execution_count": null,
      "outputs": []
    },
    {
      "cell_type": "code",
      "source": [
        "def create_entity(entity_str: str) -> dict:\n",
        "    parsed_entity = _parse_string(entity_str)\n",
        "    print(\"Parsed entity:\", parsed_entity)\n",
        "    if parsed_entity:\n",
        "        entity_type = list(parsed_entity.keys())[0]\n",
        "        print(\"Entity type:\", entity_type)\n",
        "        entity_id = parsed_entity[entity_type].get('id')\n",
        "        print(\"Entity ID:\", entity_id)\n",
        "\n",
        "        if entity_id is not None:\n",
        "            for existing_entity in DATABASE:\n",
        "                if entity_type in existing_entity and existing_entity[entity_type].get('id') == entity_id:\n",
        "                    print(f\"{entity_type} with ID {entity_id} already exists in DATABASE.\")\n",
        "                    return {}\n",
        "\n",
        "            DATABASE.append(parsed_entity)\n",
        "            return parsed_entity\n",
        "        else:\n",
        "            print(\"Entity ID not found.\")\n",
        "            return {}\n",
        "    else:\n",
        "        print(\"Parsed entity is None.\")\n",
        "        return {}\n"
      ],
      "metadata": {
        "id": "9W4-m3u6FwEL"
      },
      "execution_count": null,
      "outputs": []
    },
    {
      "cell_type": "code",
      "source": [
        "def create_user(user_str: str, hash_password: bool = False) -> dict:\n",
        "    parsed_user = _parse_string(user_str)\n",
        "    if parsed_user:\n",
        "        if hash_password:\n",
        "            password = parsed_user['user'].get('password')\n",
        "            if password:\n",
        "                hashed_password = _hash_password(password)\n",
        "                parsed_user['user']['password'] = hashed_password\n",
        "            else:\n",
        "                print(\"No password provided for hashing.\")\n",
        "        DATABASE.append(parsed_user)\n",
        "        return parsed_user\n",
        "    else:\n",
        "        return {}\n"
      ],
      "metadata": {
        "id": "HXBLR5a_FzEG"
      },
      "execution_count": null,
      "outputs": []
    },
    {
      "cell_type": "code",
      "source": [
        "def _hash_password(password: str) -> str:\n",
        "    \"\"\"\n",
        "    Hashes the given password using the SHA-256 algorithm.\n",
        "    \"\"\"\n",
        "    hashed_password = hashlib.sha256(password.encode()).hexdigest()\n",
        "    return hashed_password"
      ],
      "metadata": {
        "id": "uHg6CDzgNWmI"
      },
      "execution_count": null,
      "outputs": []
    },
    {
      "cell_type": "code",
      "source": [
        "def update_record(record_str: str) -> dict:\n",
        "    parsed_record = _parse_record(record_str)\n",
        "    if parsed_record:\n",
        "        for index, record in enumerate(DATABASE):\n",
        "            if record.get('id') == parsed_record.get('id'):\n",
        "                DATABASE[index] = parsed_record\n",
        "                return parsed_record\n",
        "        else:\n",
        "            return {}\n",
        "    else:\n",
        "        return {}"
      ],
      "metadata": {
        "id": "8_bN5qhgF2T7"
      },
      "execution_count": null,
      "outputs": []
    },
    {
      "cell_type": "code",
      "source": [
        "def read_record(record_content: str) -> dict:\n",
        "    for record in DATABASE:\n",
        "        if record.get('content') == record_content:\n",
        "            return record\n",
        "    else:\n",
        "        return {}"
      ],
      "metadata": {
        "id": "gjIUXHYUF5NH"
      },
      "execution_count": null,
      "outputs": []
    },
    {
      "cell_type": "code",
      "source": [
        "def delete_entity(entity_id: int) -> dict:\n",
        "    for index, entity in enumerate(DATABASE):\n",
        "        entity_type = list(entity.keys())[0]\n",
        "        if entity[entity_type].get('id') == entity_id:\n",
        "            deleted_entity = DATABASE.pop(index)\n",
        "            print(f\"Deleted {entity_type}: {deleted_entity}\")\n",
        "            return deleted_entity\n",
        "    else:\n",
        "        print(f\"Entity with ID {entity_id} not found.\")\n",
        "        return {}"
      ],
      "metadata": {
        "id": "cyJ3-WSNF8UC"
      },
      "execution_count": null,
      "outputs": []
    },
    {
      "cell_type": "code",
      "source": [
        "user_1 = \"User(id=1, first_name=test name, second_name=test surname, email=test@test.test, password=123)\""
      ],
      "metadata": {
        "id": "loRhsvQqGL1i"
      },
      "execution_count": null,
      "outputs": []
    },
    {
      "cell_type": "code",
      "source": [
        "create_user(user_1)"
      ],
      "metadata": {
        "colab": {
          "base_uri": "https://localhost:8080/"
        },
        "id": "dc3SA0IxU_8C",
        "outputId": "35fd7a0a-545a-43cd-e2b3-3e67cffe4802"
      },
      "execution_count": null,
      "outputs": [
        {
          "output_type": "execute_result",
          "data": {
            "text/plain": [
              "{'user': {'id': 1,\n",
              "  'first_name': 'test name',\n",
              "  'second_name': 'test surname',\n",
              "  'email': 'test@test.test',\n",
              "  'password': '123)'}}"
            ]
          },
          "metadata": {},
          "execution_count": 60
        }
      ]
    },
    {
      "cell_type": "code",
      "source": [
        "record_1 = \"Record(id=1, date=26.02.2004, content=Some example, user=1, title=Example title)\""
      ],
      "metadata": {
        "id": "FtKFHx-8GOp_"
      },
      "execution_count": null,
      "outputs": []
    },
    {
      "cell_type": "code",
      "source": [
        "record_2 = \"Record(id=2, date=13.02.2004, content=EXAMPLIII, user=1, title=CLOWN)\""
      ],
      "metadata": {
        "id": "Meb28slBUiux"
      },
      "execution_count": null,
      "outputs": []
    },
    {
      "cell_type": "code",
      "source": [
        "create_entity(record_2)"
      ],
      "metadata": {
        "colab": {
          "base_uri": "https://localhost:8080/"
        },
        "id": "4RhXF7F8Os9z",
        "outputId": "7842e7cd-83ef-43db-9f97-877d0476fbbe"
      },
      "execution_count": null,
      "outputs": [
        {
          "output_type": "stream",
          "name": "stdout",
          "text": [
            "Parsed entity: {'record': {'id': 2, 'date': datetime.datetime(2004, 2, 13, 0, 0), 'content': 'EXAMPLIII', 'user': '1', 'title': 'CLOWN)'}}\n",
            "Entity type: record\n",
            "Entity ID: 2\n"
          ]
        },
        {
          "output_type": "execute_result",
          "data": {
            "text/plain": [
              "{'record': {'id': 2,\n",
              "  'date': datetime.datetime(2004, 2, 13, 0, 0),\n",
              "  'content': 'EXAMPLIII',\n",
              "  'user': '1',\n",
              "  'title': 'CLOWN)'}}"
            ]
          },
          "metadata": {},
          "execution_count": 55
        }
      ]
    },
    {
      "cell_type": "markdown",
      "source": [],
      "metadata": {
        "id": "jVwpe92xUXOl"
      }
    },
    {
      "cell_type": "code",
      "source": [
        "delete_entity(2)"
      ],
      "metadata": {
        "colab": {
          "base_uri": "https://localhost:8080/"
        },
        "id": "rcCMq_8QKerH",
        "outputId": "b7c6add5-6760-4d37-a211-d057b53b834b"
      },
      "execution_count": null,
      "outputs": [
        {
          "output_type": "stream",
          "name": "stdout",
          "text": [
            "Deleted record: {'record': {'id': 2, 'date': datetime.datetime(2004, 2, 13, 0, 0), 'content': 'EXAMPLIII', 'user': '1', 'title': 'CLOWN)'}}\n"
          ]
        },
        {
          "output_type": "execute_result",
          "data": {
            "text/plain": [
              "{'record': {'id': 2,\n",
              "  'date': datetime.datetime(2004, 2, 13, 0, 0),\n",
              "  'content': 'EXAMPLIII',\n",
              "  'user': '1',\n",
              "  'title': 'CLOWN)'}}"
            ]
          },
          "metadata": {},
          "execution_count": 57
        }
      ]
    },
    {
      "cell_type": "code",
      "source": [
        "print(DATABASE)"
      ],
      "metadata": {
        "colab": {
          "base_uri": "https://localhost:8080/"
        },
        "id": "DUWnc_SvUaMK",
        "outputId": "33002f9c-f1ab-4d84-8ac0-1d4b422bd2d9"
      },
      "execution_count": null,
      "outputs": [
        {
          "output_type": "stream",
          "name": "stdout",
          "text": [
            "[{'record': {'date': datetime.datetime(2004, 2, 26, 0, 0), 'content': 'Some example', 'user': '1', 'title': 'Example title)'}}, {'record': {'date': datetime.datetime(2004, 2, 26, 0, 0), 'content': 'Some example', 'user': '1', 'title': 'Example title)'}}, {'record': {'Record(id': '1', 'date': datetime.datetime(2004, 2, 26, 0, 0), 'content': 'Some example', 'user': '1', 'title': 'Example title)'}}, {'record': {'Record(id': '1', 'date': datetime.datetime(2004, 2, 26, 0, 0), 'content': 'Some example', 'user': '1', 'title': 'Example title)'}}, {'record': {'Record(id': '1', 'date': datetime.datetime(2004, 2, 26, 0, 0), 'content': 'Some example', 'user': '1', 'title': 'Example title)'}}]\n"
          ]
        }
      ]
    }
  ]
}